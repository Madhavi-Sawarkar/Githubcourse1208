{
  "nbformat": 4,
  "nbformat_minor": 0,
  "metadata": {
    "colab": {
      "name": "dataset.ipynb",
      "provenance": [],
      "authorship_tag": "ABX9TyNqrt3c9bb/gg6rKS+AIdcK",
      "include_colab_link": true
    },
    "kernelspec": {
      "name": "python3",
      "display_name": "Python 3"
    }
  },
  "cells": [
    {
      "cell_type": "markdown",
      "metadata": {
        "id": "view-in-github",
        "colab_type": "text"
      },
      "source": [
        "<a href=\"https://colab.research.google.com/github/Madhavi-Sawarkar/Githubcourse1208/blob/master/dataset.ipynb\" target=\"_parent\"><img src=\"https://colab.research.google.com/assets/colab-badge.svg\" alt=\"Open In Colab\"/></a>"
      ]
    },
    {
      "cell_type": "code",
      "metadata": {
        "id": "sXyV9tnGX9nz",
        "colab_type": "code",
        "colab": {
          "base_uri": "https://localhost:8080/",
          "height": 255
        },
        "outputId": "35a258f9-dd90-4268-d5f2-3d64b032646a"
      },
      "source": [
        "import pandas as pd\n",
        "df = pd.read_csv(\"data.csv\")\n",
        "df.head()\n",
        "print(df)"
      ],
      "execution_count": 5,
      "outputs": [
        {
          "output_type": "stream",
          "text": [
            "          Make       Model  Year  ... city mpg  Popularity   MSRP\n",
            "0          BMW  1 Series M  2011  ...       19        3916  46135\n",
            "1          BMW    1 Series  2011  ...       19        3916  40650\n",
            "2          BMW    1 Series  2011  ...       20        3916  36350\n",
            "3          BMW    1 Series  2011  ...       18        3916  29450\n",
            "4          BMW    1 Series  2011  ...       18        3916  34500\n",
            "...        ...         ...   ...  ...      ...         ...    ...\n",
            "11909    Acura         ZDX  2012  ...       16         204  46120\n",
            "11910    Acura         ZDX  2012  ...       16         204  56670\n",
            "11911    Acura         ZDX  2012  ...       16         204  50620\n",
            "11912    Acura         ZDX  2013  ...       16         204  50920\n",
            "11913  Lincoln      Zephyr  2006  ...       17          61  28995\n",
            "\n",
            "[11914 rows x 16 columns]\n"
          ],
          "name": "stdout"
        }
      ]
    }
  ]
}