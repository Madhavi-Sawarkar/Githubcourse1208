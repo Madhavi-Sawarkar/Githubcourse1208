{
  "nbformat": 4,
  "nbformat_minor": 0,
  "metadata": {
    "colab": {
      "name": "dataset.ipynb",
      "provenance": [],
      "authorship_tag": "ABX9TyNqrt3c9bb/gg6rKS+AIdcK",
      "include_colab_link": true
    },
    "kernelspec": {
      "name": "python3",
      "display_name": "Python 3"
    }
  },
  "cells": [
    {
      "cell_type": "markdown",
      "metadata": {
        "id": "view-in-github",
        "colab_type": "text"
      },
      "source": [
        "<a href=\"https://colab.research.google.com/github/Madhavi-Sawarkar/Githubcourse1208/blob/master/dataset.ipynb\" target=\"_parent\"><img src=\"https://colab.research.google.com/assets/colab-badge.svg\" alt=\"Open In Colab\"/></a>"
      ]
    },
    {
      "cell_type": "code",
      "metadata": {
        "id": "sXyV9tnGX9nz",
        "colab_type": "code",
        "colab": {
          "base_uri": "https://localhost:8080/",
          "height": 255
        },
        "outputId": "5f8d5da3-50d2-436f-923c-b29dee90325c"
      },
      "source": [
        "import pandas as pd\n",
        "df = pd.read_csv(\"data.csv\")\n",
        "df.head()\n",
        "print(df)"
      ],
      "execution_count": 7,
      "outputs": [
        {
          "output_type": "stream",
          "text": [
            "          Make       Model  Year  ... MPG-H  MPG-c  Price\n",
            "0          BMW  1 Series M  2011  ...    26     19  46135\n",
            "1          BMW    1 Series  2011  ...    28     19  40650\n",
            "2          BMW    1 Series  2011  ...    28     20  36350\n",
            "3          BMW    1 Series  2011  ...    28     18  29450\n",
            "4          BMW    1 Series  2011  ...    28     18  34500\n",
            "...        ...         ...   ...  ...   ...    ...    ...\n",
            "11909    Acura         ZDX  2012  ...    23     16  46120\n",
            "11910    Acura         ZDX  2012  ...    23     16  56670\n",
            "11911    Acura         ZDX  2012  ...    23     16  50620\n",
            "11912    Acura         ZDX  2013  ...    23     16  50920\n",
            "11913  Lincoln      Zephyr  2006  ...    26     17  28995\n",
            "\n",
            "[11914 rows x 11 columns]\n"
          ],
          "name": "stdout"
        }
      ]
    }
  ]
}